{
 "cells": [
  {
   "cell_type": "code",
   "execution_count": 1,
   "id": "e52f26e8",
   "metadata": {},
   "outputs": [
    {
     "ename": "ValueError",
     "evalue": "File format not supported: filepath=saved_models/qpo_cgan_generator. Keras 3 only supports V3 `.keras` files and legacy H5 format files (`.h5` extension). Note that the legacy SavedModel format is not supported by `load_model()` in Keras 3. In order to reload a TensorFlow SavedModel as an inference-only layer in Keras 3, use `keras.layers.TFSMLayer(saved_models/qpo_cgan_generator, call_endpoint='serving_default')` (note that your `call_endpoint` might have a different name).",
     "output_type": "error",
     "traceback": [
      "\u001b[0;31m---------------------------------------------------------------------------\u001b[0m",
      "\u001b[0;31mValueError\u001b[0m                                Traceback (most recent call last)",
      "Cell \u001b[0;32mIn[1], line 39\u001b[0m\n\u001b[1;32m     34\u001b[0m     \u001b[38;5;28;01mreturn\u001b[39;00m generated_series\n\u001b[1;32m     37\u001b[0m \u001b[38;5;66;03m# %%\u001b[39;00m\n\u001b[1;32m     38\u001b[0m \u001b[38;5;66;03m# Load trained generator\u001b[39;00m\n\u001b[0;32m---> 39\u001b[0m generator \u001b[38;5;241m=\u001b[39m load_model(\u001b[38;5;124m\"\u001b[39m\u001b[38;5;124msaved_models/qpo_cgan_generator\u001b[39m\u001b[38;5;124m\"\u001b[39m)\n\u001b[1;32m     41\u001b[0m \u001b[38;5;66;03m# Example usage: generate QPO samples\u001b[39;00m\n\u001b[1;32m     42\u001b[0m qpo_label \u001b[38;5;241m=\u001b[39m [\u001b[38;5;241m0.35\u001b[39m, \u001b[38;5;241m0.8\u001b[39m, \u001b[38;5;241m1.0\u001b[39m]  \u001b[38;5;66;03m# fc=0.35 Hz, amp=0.8, is_qpo=1\u001b[39;00m\n",
      "File \u001b[0;32m/opt/anaconda3/lib/python3.12/site-packages/keras/src/saving/saving_api.py:206\u001b[0m, in \u001b[0;36mload_model\u001b[0;34m(filepath, custom_objects, compile, safe_mode)\u001b[0m\n\u001b[1;32m    200\u001b[0m     \u001b[38;5;28;01mraise\u001b[39;00m \u001b[38;5;167;01mValueError\u001b[39;00m(\n\u001b[1;32m    201\u001b[0m         \u001b[38;5;124mf\u001b[39m\u001b[38;5;124m\"\u001b[39m\u001b[38;5;124mFile not found: filepath=\u001b[39m\u001b[38;5;132;01m{\u001b[39;00mfilepath\u001b[38;5;132;01m}\u001b[39;00m\u001b[38;5;124m. \u001b[39m\u001b[38;5;124m\"\u001b[39m\n\u001b[1;32m    202\u001b[0m         \u001b[38;5;124m\"\u001b[39m\u001b[38;5;124mPlease ensure the file is an accessible `.keras` \u001b[39m\u001b[38;5;124m\"\u001b[39m\n\u001b[1;32m    203\u001b[0m         \u001b[38;5;124m\"\u001b[39m\u001b[38;5;124mzip file.\u001b[39m\u001b[38;5;124m\"\u001b[39m\n\u001b[1;32m    204\u001b[0m     )\n\u001b[1;32m    205\u001b[0m \u001b[38;5;28;01melse\u001b[39;00m:\n\u001b[0;32m--> 206\u001b[0m     \u001b[38;5;28;01mraise\u001b[39;00m \u001b[38;5;167;01mValueError\u001b[39;00m(\n\u001b[1;32m    207\u001b[0m         \u001b[38;5;124mf\u001b[39m\u001b[38;5;124m\"\u001b[39m\u001b[38;5;124mFile format not supported: filepath=\u001b[39m\u001b[38;5;132;01m{\u001b[39;00mfilepath\u001b[38;5;132;01m}\u001b[39;00m\u001b[38;5;124m. \u001b[39m\u001b[38;5;124m\"\u001b[39m\n\u001b[1;32m    208\u001b[0m         \u001b[38;5;124m\"\u001b[39m\u001b[38;5;124mKeras 3 only supports V3 `.keras` files and \u001b[39m\u001b[38;5;124m\"\u001b[39m\n\u001b[1;32m    209\u001b[0m         \u001b[38;5;124m\"\u001b[39m\u001b[38;5;124mlegacy H5 format files (`.h5` extension). \u001b[39m\u001b[38;5;124m\"\u001b[39m\n\u001b[1;32m    210\u001b[0m         \u001b[38;5;124m\"\u001b[39m\u001b[38;5;124mNote that the legacy SavedModel format is not \u001b[39m\u001b[38;5;124m\"\u001b[39m\n\u001b[1;32m    211\u001b[0m         \u001b[38;5;124m\"\u001b[39m\u001b[38;5;124msupported by `load_model()` in Keras 3. In \u001b[39m\u001b[38;5;124m\"\u001b[39m\n\u001b[1;32m    212\u001b[0m         \u001b[38;5;124m\"\u001b[39m\u001b[38;5;124morder to reload a TensorFlow SavedModel as an \u001b[39m\u001b[38;5;124m\"\u001b[39m\n\u001b[1;32m    213\u001b[0m         \u001b[38;5;124m\"\u001b[39m\u001b[38;5;124minference-only layer in Keras 3, use \u001b[39m\u001b[38;5;124m\"\u001b[39m\n\u001b[1;32m    214\u001b[0m         \u001b[38;5;124m\"\u001b[39m\u001b[38;5;124m`keras.layers.TFSMLayer(\u001b[39m\u001b[38;5;124m\"\u001b[39m\n\u001b[1;32m    215\u001b[0m         \u001b[38;5;124mf\u001b[39m\u001b[38;5;124m\"\u001b[39m\u001b[38;5;132;01m{\u001b[39;00mfilepath\u001b[38;5;132;01m}\u001b[39;00m\u001b[38;5;124m, call_endpoint=\u001b[39m\u001b[38;5;124m'\u001b[39m\u001b[38;5;124mserving_default\u001b[39m\u001b[38;5;124m'\u001b[39m\u001b[38;5;124m)` \u001b[39m\u001b[38;5;124m\"\u001b[39m\n\u001b[1;32m    216\u001b[0m         \u001b[38;5;124m\"\u001b[39m\u001b[38;5;124m(note that your `call_endpoint` \u001b[39m\u001b[38;5;124m\"\u001b[39m\n\u001b[1;32m    217\u001b[0m         \u001b[38;5;124m\"\u001b[39m\u001b[38;5;124mmight have a different name).\u001b[39m\u001b[38;5;124m\"\u001b[39m\n\u001b[1;32m    218\u001b[0m     )\n",
      "\u001b[0;31mValueError\u001b[0m: File format not supported: filepath=saved_models/qpo_cgan_generator. Keras 3 only supports V3 `.keras` files and legacy H5 format files (`.h5` extension). Note that the legacy SavedModel format is not supported by `load_model()` in Keras 3. In order to reload a TensorFlow SavedModel as an inference-only layer in Keras 3, use `keras.layers.TFSMLayer(saved_models/qpo_cgan_generator, call_endpoint='serving_default')` (note that your `call_endpoint` might have a different name)."
     ]
    }
   ],
   "source": [
    "# %%\n",
    "import numpy as np\n",
    "import tensorflow as tf\n",
    "from tensorflow.keras.models import load_model\n",
    "import os\n",
    "\n",
    "\n",
    "# %%\n",
    "def generate_gan_dataset(generator, latent_dim, label_vector, num_samples=1000, save_path=\"gan_generated_dataset.npz\"):\n",
    "    \"\"\"\n",
    "    Generate synthetic light curves from a trained conditional GAN and save to .npz file.\n",
    "\n",
    "    Parameters:\n",
    "    - generator: Trained GAN generator model\n",
    "    - latent_dim: Dimension of the noise vector\n",
    "    - label_vector: List [fc, amp, is_qpo]\n",
    "    - num_samples: Number of samples to generate\n",
    "    - save_path: Where to save the output dataset\n",
    "    \"\"\"\n",
    "    os.makedirs(os.path.dirname(save_path), exist_ok=True)\n",
    "\n",
    "    # 1. Prepare latent vectors and labels\n",
    "    noise = tf.random.normal([num_samples, latent_dim])\n",
    "    labels = tf.convert_to_tensor([label_vector] * num_samples, dtype=tf.float32)\n",
    "\n",
    "    # 2. Generate sequences\n",
    "    print(f\"🌀 Generating {num_samples} synthetic sequences for label: {label_vector}\")\n",
    "    generated_series = generator([noise, labels], training=False).numpy()  # shape: (N, 512, 1)\n",
    "\n",
    "    # 3. Save to .npz\n",
    "    print(f\"💾 Saving dataset to {save_path}...\")\n",
    "    np.savez_compressed(save_path, X=generated_series, y=np.array([label_vector] * num_samples))\n",
    "    print(\"✅ Done!\")\n",
    "    return generated_series\n",
    "\n",
    "\n",
    "# %%\n",
    "# Load trained generator\n",
    "generator = load_model(\"saved_models/qpo_cgan_generator\")\n",
    "\n",
    "# Example usage: generate QPO samples\n",
    "qpo_label = [0.35, 0.8, 1.0]  # fc=0.35 Hz, amp=0.8, is_qpo=1\n",
    "generate_gan_dataset(generator, latent_dim=100, label_vector=qpo_label,\n",
    "                     num_samples=2000, save_path=\"gan_generated/qpo_fc035_amp08.npz\")\n",
    "\n",
    "# Example usage: generate noise-only (non-QPO) samples\n",
    "non_qpo_label = [0.35, 0.8, 0.0]  # Same fc/amp but no QPO\n",
    "generate_gan_dataset(generator, latent_dim=100, label_vector=non_qpo_label,\n",
    "                     num_samples=2000, save_path=\"gan_generated/noise_fc035_amp08.npz\")\n",
    "\n",
    "# %%\n",
    "# Optional: sweep over multiple [fc, amp] combinations\n",
    "fc_vals = [0.2, 0.35, 0.5]\n",
    "amp_vals = [0.3, 0.6, 0.9]\n",
    "\n",
    "for fc in fc_vals:\n",
    "    for amp in amp_vals:\n",
    "        for is_qpo in [0.0, 1.0]:\n",
    "            label = [fc, amp, is_qpo]\n",
    "            tag = f\"fc{fc:.2f}_amp{amp:.2f}_qpo{int(is_qpo)}\"\n",
    "            save_path = f\"gan_generated/sweep/{tag}.npz\"\n",
    "            generate_gan_dataset(generator, 100, label, 500, save_path)\n"
   ]
  }
 ],
 "metadata": {
  "kernelspec": {
   "display_name": "base",
   "language": "python",
   "name": "python3"
  },
  "language_info": {
   "codemirror_mode": {
    "name": "ipython",
    "version": 3
   },
   "file_extension": ".py",
   "mimetype": "text/x-python",
   "name": "python",
   "nbconvert_exporter": "python",
   "pygments_lexer": "ipython3",
   "version": "3.12.7"
  }
 },
 "nbformat": 4,
 "nbformat_minor": 5
}
