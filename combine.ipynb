{
 "cells": [
  {
   "cell_type": "code",
   "execution_count": 3,
   "id": "0b5aeccd",
   "metadata": {},
   "outputs": [
    {
     "data": {
      "text/plain": [
       "'gan_outputs/all_epochs_combined.pdf'"
      ]
     },
     "execution_count": 3,
     "metadata": {},
     "output_type": "execute_result"
    }
   ],
   "source": [
    "import os\n",
    "import fitz  # PyMuPDF\n",
    "\n",
    "# Define the range and output path\n",
    "epoch_paths = [f\"gan_outputs/epoch_{i}.pdf\" for i in range(1, 101) if os.path.exists(f\"gan_outputs/epoch_{i}.pdf\")]\n",
    "output_combined_path = \"gan_outputs/all_epochs_combined.pdf\"\n",
    "\n",
    "# Merge all epoch PDFs\n",
    "merged_pdf = fitz.open()\n",
    "for pdf_path in epoch_paths:\n",
    "    with fitz.open(pdf_path) as mfile:\n",
    "        merged_pdf.insert_pdf(mfile)\n",
    "\n",
    "# Save the combined file\n",
    "merged_pdf.save(output_combined_path)\n",
    "merged_pdf.close()\n",
    "\n",
    "output_combined_path\n"
   ]
  }
 ],
 "metadata": {
  "kernelspec": {
   "display_name": "base",
   "language": "python",
   "name": "python3"
  },
  "language_info": {
   "codemirror_mode": {
    "name": "ipython",
    "version": 3
   },
   "file_extension": ".py",
   "mimetype": "text/x-python",
   "name": "python",
   "nbconvert_exporter": "python",
   "pygments_lexer": "ipython3",
   "version": "3.12.7"
  }
 },
 "nbformat": 4,
 "nbformat_minor": 5
}
