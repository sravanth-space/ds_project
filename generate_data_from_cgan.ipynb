{
 "cells": [
  {
   "cell_type": "code",
   "execution_count": null,
   "id": "6b89e5c9",
   "metadata": {},
   "outputs": [],
   "source": [
    "from tensorflow.keras.models import load_model\n",
    "import numpy as np\n",
    "import tensorflow as tf\n",
    "import os\n"
   ]
  },
  {
   "cell_type": "code",
   "execution_count": null,
   "id": "e9334910",
   "metadata": {},
   "outputs": [],
   "source": [
    "generator = load_model(\"saved_models/qpo_cgan_generator\")\n"
   ]
  },
  {
   "cell_type": "code",
   "execution_count": null,
   "id": "19827ac9",
   "metadata": {},
   "outputs": [],
   "source": [
    "\n",
    "def generate_gan_dataset(generator, latent_dim, label_vector, num_samples=1000, save_path=\"gan_generated_dataset.npz\"):\n",
    "    \"\"\"\n",
    "    Generate synthetic light curves from a trained conditional GAN and save to .npz file.\n",
    "\n",
    "    Parameters:\n",
    "    - generator: Trained GAN generator model\n",
    "    - latent_dim: Dimension of the noise vector\n",
    "    - label_vector: One-hot label for QPO or non-QPO ([0,1] or [1,0])\n",
    "    - num_samples: Number of samples to generate\n",
    "    - save_path: Where to save the output dataset\n",
    "    \"\"\"\n",
    "\n",
    "    # 1. Prepare latent vectors (z) and labels\n",
    "    noise = tf.random.normal([num_samples, latent_dim])\n",
    "    labels = tf.convert_to_tensor([label_vector] * num_samples, dtype=tf.float32)\n",
    "\n",
    "    # 2. Generate sequences\n",
    "    print(\"🌀 Generating synthetic sequences...\")\n",
    "    generated_series = generator([noise, labels], training=False).numpy()  # shape: (N, 512, 1)\n",
    "\n",
    "    # 3. Save to .npz format\n",
    "    print(f\"💾 Saving dataset to {save_path}...\")\n",
    "    np.savez_compressed(save_path, X=generated_series, y=np.array([label_vector] * num_samples))\n",
    "    print(\"✅ Done!\")\n",
    "\n",
    "    return generated_series\n"
   ]
  },
  {
   "cell_type": "code",
   "execution_count": null,
   "id": "660b5eb2",
   "metadata": {},
   "outputs": [],
   "source": [
    "gan_dataset = generate_gan_dataset(generator, latent_dim=100, label_vector=[0, 1],\n",
    "                                   num_samples=2000, save_path=\"gan_qpo_dataset.npz\")\n"
   ]
  },
  {
   "cell_type": "code",
   "execution_count": null,
   "id": "bf946910",
   "metadata": {},
   "outputs": [],
   "source": [
    "gan_dataset = generate_gan_dataset(generator, latent_dim=100, label_vector=[1, 0],\n",
    "                                   num_samples=2000, save_path=\"gan_noise_dataset.npz\")\n"
   ]
  }
 ],
 "metadata": {
  "language_info": {
   "name": "python"
  }
 },
 "nbformat": 4,
 "nbformat_minor": 5
}
