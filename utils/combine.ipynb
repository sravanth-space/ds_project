{
 "cells": [
  {
   "cell_type": "code",
   "execution_count": 8,
   "id": "90451eb9",
   "metadata": {},
   "outputs": [
    {
     "name": "stdout",
     "output_type": "stream",
     "text": [
      "Combined PDF saved at: /Users/sravanth/Library/CloudStorage/OneDrive-UniversityofHertfordshire/DS_Project/ds_project/saved_models/cgan_hyperparam_runs/run_8_z100_lr0.0005_bs128/all_epochs_combined.pdf\n"
     ]
    }
   ],
   "source": [
    "import fitz  # PyMuPDF\n",
    "import os\n",
    "\n",
    "# Define the base directory and output path\n",
    "base_dir = \"/Users/sravanth/Library/CloudStorage/OneDrive-UniversityofHertfordshire/DS_Project/ds_project/saved_models\"\n",
    "epoch_paths = [\n",
    "    os.path.join(\n",
    "        base_dir, f\"cgan_hyperparam_runs/run_8_z100_lr0.0005_bs128/epoch_{i}.pdf\")\n",
    "    for i in range(1, 101)\n",
    "    if os.path.exists(os.path.join(base_dir, f\"cgan_hyperparam_runs/run_8_z100_lr0.0005_bs128/epoch_{i}.pdf\"))\n",
    "]\n",
    "output_combined_path = os.path.join(\n",
    "    base_dir, \"cgan_hyperparam_runs/run_8_z100_lr0.0005_bs128/all_epochs_combined.pdf\")\n",
    "\n",
    "# Merge all epoch PDFs\n",
    "merged_pdf = fitz.open()\n",
    "for pdf_path in epoch_paths:\n",
    "    with fitz.open(pdf_path) as mfile:\n",
    "        merged_pdf.insert_pdf(mfile)\n",
    "\n",
    "# Save the combined file\n",
    "merged_pdf.save(output_combined_path)\n",
    "merged_pdf.close()\n",
    "\n",
    "print(f\"Combined PDF saved at: {output_combined_path}\")"
   ]
  }
 ],
 "metadata": {
  "kernelspec": {
   "display_name": "base",
   "language": "python",
   "name": "python3"
  },
  "language_info": {
   "codemirror_mode": {
    "name": "ipython",
    "version": 3
   },
   "file_extension": ".py",
   "mimetype": "text/x-python",
   "name": "python",
   "nbconvert_exporter": "python",
   "pygments_lexer": "ipython3",
   "version": "3.12.7"
  }
 },
 "nbformat": 4,
 "nbformat_minor": 5
}
