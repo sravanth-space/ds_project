{
 "cells": [
  {
   "cell_type": "code",
   "execution_count": null,
   "id": "bd7cf993",
   "metadata": {},
   "outputs": [],
   "source": [
    "import fitz  # PyMuPDF\n",
    "import os\n",
    "\n",
    "# Define the base directory\n",
    "base_dir = \"/Users/sravanth/Library/CloudStorage/OneDrive-UniversityofHertfordshire/DS_Project/ds_project/saved_models\"\n",
    "runs_dir = os.path.join(base_dir, \"cgan_hyperparam_runs\")\n",
    "\n",
    "# Loop through all run folders\n",
    "for run_folder in os.listdir(runs_dir):\n",
    "    run_path = os.path.join(runs_dir, run_folder)\n",
    "    if os.path.isdir(run_path) and run_folder.startswith(\"run_\"):\n",
    "        # Collect all epoch PDFs for the current run\n",
    "        epoch_paths = [\n",
    "            os.path.join(run_path, f\"epoch_{i}.pdf\")\n",
    "            for i in range(1, 101)\n",
    "            if os.path.exists(os.path.join(run_path, f\"epoch_{i}.pdf\"))\n",
    "        ]\n",
    "        \n",
    "        # Define the output path for the combined PDF\n",
    "        output_combined_path = os.path.join(run_path, \"all_epochs_combined.pdf\")\n",
    "        \n",
    "        # Merge all epoch PDFs\n",
    "        merged_pdf = fitz.open()\n",
    "        for pdf_path in epoch_paths:\n",
    "            with fitz.open(pdf_path) as mfile:\n",
    "                merged_pdf.insert_pdf(mfile)\n",
    "        \n",
    "        # Save the combined file\n",
    "        merged_pdf.save(output_combined_path)\n",
    "        merged_pdf.close()\n",
    "        \n",
    "        print(f\"Combined PDF saved at: {output_combined_path}\")"
   ]
  }
 ],
 "metadata": {
  "kernelspec": {
   "display_name": "base",
   "language": "python",
   "name": "python3"
  },
  "language_info": {
   "codemirror_mode": {
    "name": "ipython",
    "version": 3
   },
   "file_extension": ".py",
   "mimetype": "text/x-python",
   "name": "python",
   "nbconvert_exporter": "python",
   "pygments_lexer": "ipython3",
   "version": "3.12.7"
  }
 },
 "nbformat": 4,
 "nbformat_minor": 5
}
