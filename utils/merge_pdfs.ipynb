{
 "cells": [
  {
   "cell_type": "code",
   "execution_count": null,
   "id": "e7ad1d45",
   "metadata": {},
   "outputs": [],
   "source": [
    "import os\n",
    "from PyPDF2 import PdfMerger  # or PdfFileMerger in older versions\n",
    "\n",
    "def merge_all_epoch_pdfs(pdf_folder=\"gan_outputs\", output_file=\"GAN_training_report.pdf\"):\n",
    "    merger = PdfMerger()\n",
    "\n",
    "    # Sort files to keep epochs in order\n",
    "    pdf_files = sorted([\n",
    "        f for f in os.listdir(pdf_folder)\n",
    "        if f.endswith(\".pdf\") and f.startswith(\"epoch_\")\n",
    "    ], key=lambda x: int(x.split(\"_\")[1].split(\".\")[0]))  # sort by epoch number\n",
    "\n",
    "    for pdf in pdf_files:\n",
    "        merger.append(os.path.join(pdf_folder, pdf))\n",
    "\n",
    "    merger.write(output_file)\n",
    "    merger.close()\n",
    "    print(f\" Merged {len(pdf_files)} files into {output_file}\")\n"
   ]
  }
 ],
 "metadata": {
  "language_info": {
   "name": "python"
  }
 },
 "nbformat": 4,
 "nbformat_minor": 5
}
